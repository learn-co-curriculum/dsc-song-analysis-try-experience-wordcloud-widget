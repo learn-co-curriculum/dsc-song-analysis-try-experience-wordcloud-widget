{
 "cells": [
  {
   "cell_type": "markdown",
   "metadata": {},
   "source": [
    "## Setting up the workspace\n",
    "In the cell below, we are importing the necessary packages that Python will need to process the code.  You will learn more about packages in our Data Science program."
   ]
  },
  {
   "cell_type": "code",
   "execution_count": 1,
   "metadata": {},
   "outputs": [],
   "source": [
    "from wordcloud import WordCloud, STOPWORDS \n",
    "import random\n",
    "import matplotlib.pyplot as plt \n",
    "import pandas as pd\n",
    "from collections import OrderedDict\n",
    "from ipywidgets import interact\n",
    "stopwords = set(STOPWORDS)\n"
   ]
  },
  {
   "cell_type": "markdown",
   "metadata": {},
   "source": [
    "> In the following cells, you will see the code and the result of that code.  Inside the cells you will see text following a `\"#\"`, these comments will describe what the line(s) below it is doing."
   ]
  },
  {
   "cell_type": "markdown",
   "metadata": {},
   "source": [
    "## Defining the data set"
   ]
  },
  {
   "cell_type": "code",
   "execution_count": 2,
   "metadata": {},
   "outputs": [],
   "source": [
    "lyrics = \"A ba ba ba ba Barbara Ann ba ba ba ba Barbara Ann Barbara Ann Take my hand Barbara Ann you got me rockin' and a rollin' rockin' and a reelin' Barbara Ann ba ba ba Barbara Ann Went to a dance, looking for romance saw Barbara Ann, so I thought I'd take a chance on Barbara Ann Barbara Ann, Barbara Ann take my hand Barbara Ann, Barbara Ann take my hand you got me rockin' and a rollin' rockin' and a reelin' Barbara Ann ba ba ba ba Barbara Ann ba ba ba Barbara Ann ba ba ba Barbara Ann Barbara Ann Take my hand Barbara Ann you got me rockin' and a rollin' rockin' and a reelin' Barbara Ann ba ba ba Barbara Ann tried Peggy Sue tried Peggy Lou tried Mary Lou but I knew she wouldn't do Barbara Ann, Barbara Ann take my hand Barbara Ann take my hand you got me rockin' and a rollin' rockin' and a reelin' Barbara Ann ba ba ba Barbara Ann ba ba ba Barbara Ann ba ba ba Barbara Ann Barbara Ann take my hand Barbara Ann you got me rockin' and a rollin' rockin' and a reelin' Barbara Ann ba ba ba Barbara Ann Barbara Ann, Barbara Ann Barbara Ann, Barbara Ann Barbara Ann, Barbara Ann Barbara Ann\"\n",
    "\n"
   ]
  },
  {
   "cell_type": "markdown",
   "metadata": {},
   "source": [
    "## Preparing the data\n",
    "Using the `.replace()` method, the unwanted punctuation will be replaced with nothing, effectively removing it from the string.  \n",
    "- First, a list is created with pairs of arguments to be passed to the .replace method.  \n",
    "- Next, a for loop is created which parses the list and with each pass through the loop, the unwanted item is replaced with nothing which simply erases it from the string. "
   ]
  },
  {
   "cell_type": "code",
   "execution_count": 3,
   "metadata": {},
   "outputs": [],
   "source": [
    "# This is a list of pairs of arguments which are used as input for the .replace() method.  The first item is the one we want removed and the second is the item we wish to replace it with.\n",
    "\n",
    "unnecessary = [(',',''), \n",
    "              ('  ', ' '), \n",
    "              (\"'\", ''), \n",
    "              ('-', ' ')]\n",
    "\n",
    "# using the list above, passing pairs of old values with the value to replace it. The resulting string is then stored as a new variable 'lyrics_clean'.\n",
    "for old, new in unnecessary:\n",
    "    lyrics_clean = lyrics.replace(old, new)\n",
    "lyrics_word = lyrics_clean\n",
    "\n",
    "# With the unwanted punctuation removed the string is now transformed to a list using the .split() method\n",
    "\n",
    "lyrics_list = lyrics_clean.split(' ')\n",
    "lyrics_unique = set(lyrics_list)\n",
    "\n",
    "# All of the text is normalized using the .lower() method so 'Ba' and 'ba' are recognized as the same text\n",
    "\n",
    "lyrics_lower = [i.lower() for i in lyrics_list]\n",
    "lyrics_lower_unique = set(lyrics_lower)"
   ]
  },
  {
   "cell_type": "markdown",
   "metadata": {},
   "source": [
    "## Frequency\n",
    "With the data in  a list, it can now be organized into a frequency dictionary.  This will count the occurrences of each unique word and store the counts as key: value pairs in a Python dictionary.\n",
    "- First the for loop recursively selects each element one at a time and assigns it to the variable `i`.\n",
    "- Next a total is calculated by passing the element `i`to the count method.\n",
    "- Finally the element is stored as the key with the total as the value in the dictionary `frequency`."
   ]
  },
  {
   "cell_type": "code",
   "execution_count": 4,
   "metadata": {
    "tags": []
   },
   "outputs": [],
   "source": [
    "frequency = dict()\n",
    "\n",
    "for i in lyrics_lower_unique:\n",
    "  total = lyrics_lower.count(i)\n",
    "  frequency[i] = total"
   ]
  },
  {
   "cell_type": "markdown",
   "metadata": {},
   "source": [
    "## Visualizing the frequency\n",
    "In order to get a sense of the makeup of the frequency data we just created, a bar chart is created.\n",
    "- First, the number of items to graph is set, here it is .5 times the length of the list.\n",
    "- Next, using matplotlibs pyplot (plt) we create a histogram.\n",
    "- Then, the labels on the x-axis are rotated 45 degrees to make it more readable.\n",
    "- Finally, the graph is displayed using plt.show()\n",
    "\n",
    "By looking at the graph, you can see the words along the bottom (x-axis) and each bar represents the frequency of each word in our list."
   ]
  },
  {
   "cell_type": "code",
   "execution_count": 5,
   "metadata": {},
   "outputs": [
    {
     "data": {
      "image/png": "[encoded data removed]",
      "text/plain": [
       "<Figure size 432x288 with 1 Axes>"
      ]
     },
     "metadata": {
      "needs_background": "light"
     },
     "output_type": "display_data"
    }
   ],
   "source": [
    "size = int(len(lyrics_list)*.5)\n",
    "plt.hist(sorted(lyrics_list)[:size])\n",
    "plt.xticks(rotation=45)\n",
    "plt.show()"
   ]
  },
  {
   "cell_type": "markdown",
   "metadata": {},
   "source": [
    "## WordCloud\n",
    "A fun and sometimes informative way to visualize data is with a WordCloud.  A wordcloud is a representation of the frequency of the elements in the data with the most frequent as the largest font down to the least frequent with the smallest font"
   ]
  },
  {
   "cell_type": "code",
   "execution_count": 6,
   "metadata": {
    "tags": []
   },
   "outputs": [],
   "source": [
    "def make_wordcloud( prefer_horizontal=0.7,\n",
    "                    background_color ='blue',\n",
    "                    collocations=False,\n",
    "                    max_font_size=256,\n",
    "                    font_step=1,\n",
    "                    colormap='inferno', \n",
    "                    min_font_size = 10):\n",
    "    wordcloud = WordCloud(width = 600, height = 600,\n",
    "                    prefer_horizontal=prefer_horizontal,\n",
    "                    background_color =background_color,\n",
    "                    collocations=collocations,\n",
    "                    max_font_size=max_font_size,\n",
    "                    font_step=font_step,\n",
    "                    relative_scaling=0,\n",
    "                    colormap=colormap, \n",
    "                    stopwords = stopwords, \n",
    "                    min_font_size = min_font_size).generate(lyrics_clean.lower()) \n",
    "    \n",
    "    # plot the WordCloud image                        \n",
    "    plt.figure(figsize = (6, 6), facecolor = None) \n",
    "    plt.imshow(wordcloud) \n",
    "    plt.axis(\"off\") \n",
    "    plt.tight_layout(pad = 0) \n",
    "    \n",
    "    plt.show()\n",
    "c_maps = ['Greys', 'Purples', 'Blues', 'Greens', 'Oranges', 'Reds',\n",
    "          'YlOrBr', 'YlOrRd', 'OrRd', 'PuRd', 'RdPu', 'BuPu',\n",
    "          'GnBu', 'PuBu', 'YlGnBu', 'PuBuGn', 'BuGn', 'YlGn', 'viridis',\n",
    "          'plasma', 'inferno', 'magma', 'cividis', 'binary', 'gist_yarg', 'gist_gray', 'gray', 'bone', 'pink',\n",
    "          'spring', 'summer', 'autumn', 'winter', 'cool', 'Wistia',\n",
    "          'hot', 'afmhot', 'gist_heat', 'copper', 'PiYG', 'PRGn', 'BrBG', 'PuOr', 'RdGy', 'RdBu',\n",
    "          'RdYlBu', 'RdYlGn', 'Spectral', 'coolwarm', 'bwr', 'seismic',\n",
    "          'twilight', 'twilight_shifted', 'hsv', 'Pastel1', 'Pastel2', 'Paired', 'Accent',\n",
    "          'Dark2', 'Set1', 'Set2', 'Set3',\n",
    "          'tab10', 'tab20', 'tab20b', 'tab20c', 'flag', 'prism', 'ocean', 'gist_earth', 'terrain', 'gist_stern',\n",
    "          'gnuplot', 'gnuplot2', 'CMRmap', 'cubehelix', 'brg',\n",
    "          'gist_rainbow', 'rainbow', 'jet', 'nipy_spectral', 'gist_ncar']\n"
   ]
  },
  {
   "cell_type": "code",
   "execution_count": 7,
   "metadata": {},
   "outputs": [
    {
     "data": {
      "application/vnd.jupyter.widget-view+json": {
       "model_id": "86c955e8a05c49158b08927666aa4906",
       "version_major": 2,
       "version_minor": 0
      },
      "text/plain": [
       "interactive(children=(FloatSlider(value=0.7, description='prefer_horizontal', max=1.0, step=0.05), IntSlider(v…"
      ]
     },
     "metadata": {},
     "output_type": "display_data"
    }
   ],
   "source": [
    "interact(make_wordcloud, colormap=c_maps, background_color=(0 , 256, 1), prefer_horizontal=(0, 1, .05), font_step=(1, 10, 1), max_font_size=(1,256,1), min_font_size=(1,10,1));"
   ]
  }
 ],
 "metadata": {
  "kernelspec": {
   "display_name": "Python 3",
   "language": "python",
   "name": "python3"
  },
  "language_info": {
   "codemirror_mode": {
    "name": "ipython",
    "version": 3
   },
   "file_extension": ".py",
   "mimetype": "text/x-python",
   "name": "python",
   "nbconvert_exporter": "python",
   "pygments_lexer": "ipython3",
   "version": "3.7.8"
  }
 },
 "nbformat": 4,
 "nbformat_minor": 2
}
