{
 "cells": [
  {
   "cell_type": "code",
   "execution_count": 1,
   "metadata": {},
   "outputs": [
    {
     "ename": "ModuleNotFoundError",
     "evalue": "No module named 'wordcloud'",
     "output_type": "error",
     "traceback": [
      "\u001b[0;31m---------------------------------------------------------------------------\u001b[0m",
      "\u001b[0;31mModuleNotFoundError\u001b[0m                       Traceback (most recent call last)",
      "\u001b[0;32m<ipython-input-1-d0ad5480fcaa>\u001b[0m in \u001b[0;36m<module>\u001b[0;34m\u001b[0m\n\u001b[0;32m----> 1\u001b[0;31m \u001b[0;32mfrom\u001b[0m \u001b[0mwordcloud\u001b[0m \u001b[0;32mimport\u001b[0m \u001b[0mWordCloud\u001b[0m\u001b[0;34m,\u001b[0m \u001b[0mSTOPWORDS\u001b[0m\u001b[0;34m\u001b[0m\u001b[0;34m\u001b[0m\u001b[0m\n\u001b[0m\u001b[1;32m      2\u001b[0m \u001b[0;32mimport\u001b[0m \u001b[0mrandom\u001b[0m\u001b[0;34m\u001b[0m\u001b[0;34m\u001b[0m\u001b[0m\n\u001b[1;32m      3\u001b[0m \u001b[0;32mimport\u001b[0m \u001b[0mmatplotlib\u001b[0m\u001b[0;34m.\u001b[0m\u001b[0mpyplot\u001b[0m \u001b[0;32mas\u001b[0m \u001b[0mplt\u001b[0m\u001b[0;34m\u001b[0m\u001b[0;34m\u001b[0m\u001b[0m\n\u001b[1;32m      4\u001b[0m \u001b[0;32mimport\u001b[0m \u001b[0mpandas\u001b[0m \u001b[0;32mas\u001b[0m \u001b[0mpd\u001b[0m\u001b[0;34m\u001b[0m\u001b[0;34m\u001b[0m\u001b[0m\n\u001b[1;32m      5\u001b[0m \u001b[0;32mfrom\u001b[0m \u001b[0mcollections\u001b[0m \u001b[0;32mimport\u001b[0m \u001b[0mOrderedDict\u001b[0m\u001b[0;34m\u001b[0m\u001b[0;34m\u001b[0m\u001b[0m\n",
      "\u001b[0;31mModuleNotFoundError\u001b[0m: No module named 'wordcloud'"
     ]
    }
   ],
   "source": [
    "from wordcloud import WordCloud, STOPWORDS \n",
    "import random\n",
    "import matplotlib.pyplot as plt \n",
    "import pandas as pd\n",
    "from collections import OrderedDict\n",
    "from ipywidgets import interact\n",
    "stopwords = set(STOPWORDS)\n"
   ]
  },
  {
   "cell_type": "code",
   "execution_count": 2,
   "metadata": {},
   "outputs": [],
   "source": [
    "lyrics = \"A ba ba ba ba Barbara Ann ba ba ba ba Barbara Ann Barbara Ann Take my hand Barbara Ann you got me rockin' and a rollin' rockin' and a reelin' Barbara Ann ba ba ba Barbara Ann Went to a dance, looking for romance saw Barbara Ann, so I thought I'd take a chance on Barbara Ann Barbara Ann, Barbara Ann take my hand Barbara Ann, Barbara Ann take my hand you got me rockin' and a rollin' rockin' and a reelin' Barbara Ann ba ba ba ba Barbara Ann ba ba ba Barbara Ann ba ba ba Barbara Ann Barbara Ann Take my hand Barbara Ann you got me rockin' and a rollin' rockin' and a reelin' Barbara Ann ba ba ba Barbara Ann tried Peggy Sue tried Peggy Lou tried Mary Lou but I knew she wouldn't do Barbara Ann, Barbara Ann take my hand Barbara Ann take my hand you got me rockin' and a rollin' rockin' and a reelin' Barbara Ann ba ba ba Barbara Ann ba ba ba Barbara Ann ba ba ba Barbara Ann Barbara Ann take my hand Barbara Ann you got me rockin' and a rollin' rockin' and a reelin' Barbara Ann ba ba ba Barbara Ann Barbara Ann, Barbara Ann Barbara Ann, Barbara Ann Barbara Ann, Barbara Ann Barbara Ann\"\n",
    "\n",
    "unnecessary = [(',',''),\n",
    "              ('...More', ''), \n",
    "              ('Lyrics... ', ''), \n",
    "              ('  ', ' '), \n",
    "              (\"'\", ''), \n",
    "              ('-', ' ')]\n",
    "\n",
    "# using the list above, passing pairs of old values with the value to replace it\n",
    "for old, new in unnecessary:\n",
    "    lyrics_clean = lyrics.replace(old, new)\n",
    "\n",
    "# making a list of the lyrics using the .split() method\n",
    "lyrics_list = lyrics_clean.split(' ')\n",
    "\n",
    "# making a set of the unique words in the lyrics\n",
    "lyrics_unique = set(lyrics_list)\n",
    "\n",
    "# making all of the words all lower case to prevent miscounting words like 'Ba' and 'ba' as different words using list comprehension\n",
    "\n",
    "lyrics_lower = [i.lower() for i in lyrics_list]\n",
    "\n",
    "# creating a unique list from the list of lowercase words\n",
    "lyrics_lower_unique = set(lyrics_lower)"
   ]
  },
  {
   "cell_type": "code",
   "execution_count": 3,
   "metadata": {
    "tags": []
   },
   "outputs": [
    {
     "name": "stdout",
     "output_type": "stream",
     "text": [
      "OrderedDict([('barbara', 38), ('ba', 36), ('ann', 31), ('a', 13), ('and', 10), (\"rockin'\", 10), ('take', 8), ('hand', 7), ('ann,', 7), ('my', 7), ('you', 5), ('got', 5), ('me', 5), (\"reelin'\", 5), (\"rollin'\", 5), ('tried', 3), ('lou', 2), ('peggy', 2), ('i', 2), ('so', 1), ('do', 1), ('dance,', 1), ('chance', 1), (\"i'd\", 1), ('on', 1), ('sue', 1), ('saw', 1), ('thought', 1), ('to', 1), (\"wouldn't\", 1), ('she', 1), ('looking', 1), ('romance', 1), ('mary', 1), ('but', 1), ('knew', 1), ('for', 1), ('went', 1)])\n"
     ]
    }
   ],
   "source": [
    "frequency = {}\n",
    "\n",
    "for i in lyrics_lower_unique:\n",
    "  total = lyrics_lower.count(i)\n",
    "  frequency[i] = total\n",
    "\n",
    "ordered_frequency = OrderedDict(sorted(frequency.items(), key=lambda x: x[1], reverse=True))\n",
    "\n",
    "print(ordered_frequency)"
   ]
  },
  {
   "cell_type": "code",
   "execution_count": 4,
   "metadata": {},
   "outputs": [],
   "source": [
    "def make_bar_plot(top_n=10):\n",
    "    x=list(ordered_frequency.keys())[:top_n]\n",
    "    height=(list(ordered_frequency.values())[:top_n])\n",
    "    plt.bar(x=x, height=height, color=['b', 'g', 'r', 'c', 'm', 'y', 'k', 'w'])\n",
    "    plt.xticks(rotation=45)\n",
    "    plt.show()"
   ]
  },
  {
   "cell_type": "code",
   "execution_count": 5,
   "metadata": {},
   "outputs": [
    {
     "data": {
      "application/vnd.jupyter.widget-view+json": {
       "model_id": "e51f6b328c6340dab8bfee123d603824",
       "version_major": 2,
       "version_minor": 0
      },
      "text/plain": [
       "interactive(children=(IntSlider(value=10, description='top_n', max=15), Output()), _dom_classes=('widget-inter…"
      ]
     },
     "metadata": {},
     "output_type": "display_data"
    }
   ],
   "source": [
    "interact(make_bar_plot, top_n=(0,15));"
   ]
  },
  {
   "cell_type": "code",
   "execution_count": 6,
   "metadata": {
    "tags": []
   },
   "outputs": [],
   "source": [
    "def make_wordcloud( prefer_horizontal=0.7,\n",
    "                    background_color ='blue',\n",
    "                    collocations=False,\n",
    "                    max_font_size=256,\n",
    "                    font_step=1,\n",
    "                    colormap='inferno', \n",
    "                    min_font_size = 10):\n",
    "    wordcloud = WordCloud(width = 600, height = 600,\n",
    "                    prefer_horizontal=prefer_horizontal,\n",
    "                    background_color =background_color,\n",
    "                    collocations=collocations,\n",
    "                    max_font_size=max_font_size,\n",
    "                    font_step=font_step,\n",
    "                    relative_scaling=0,\n",
    "                    colormap=colormap, \n",
    "                    stopwords = stopwords, \n",
    "                    min_font_size = min_font_size).generate(lyrics_clean.lower()) \n",
    "    \n",
    "    # plot the WordCloud image                        \n",
    "    plt.figure(figsize = (6, 6), facecolor = None) \n",
    "    plt.imshow(wordcloud) \n",
    "    plt.axis(\"off\") \n",
    "    plt.tight_layout(pad = 0) \n",
    "    \n",
    "    plt.show()\n",
    "c_maps = ['Greys', 'Purples', 'Blues', 'Greens', 'Oranges', 'Reds',\n",
    "          'YlOrBr', 'YlOrRd', 'OrRd', 'PuRd', 'RdPu', 'BuPu',\n",
    "          'GnBu', 'PuBu', 'YlGnBu', 'PuBuGn', 'BuGn', 'YlGn', 'viridis',\n",
    "          'plasma', 'inferno', 'magma', 'cividis', 'binary', 'gist_yarg', 'gist_gray', 'gray', 'bone', 'pink',\n",
    "          'spring', 'summer', 'autumn', 'winter', 'cool', 'Wistia',\n",
    "          'hot', 'afmhot', 'gist_heat', 'copper', 'PiYG', 'PRGn', 'BrBG', 'PuOr', 'RdGy', 'RdBu',\n",
    "          'RdYlBu', 'RdYlGn', 'Spectral', 'coolwarm', 'bwr', 'seismic',\n",
    "          'twilight', 'twilight_shifted', 'hsv', 'Pastel1', 'Pastel2', 'Paired', 'Accent',\n",
    "          'Dark2', 'Set1', 'Set2', 'Set3',\n",
    "          'tab10', 'tab20', 'tab20b', 'tab20c', 'flag', 'prism', 'ocean', 'gist_earth', 'terrain', 'gist_stern',\n",
    "          'gnuplot', 'gnuplot2', 'CMRmap', 'cubehelix', 'brg',\n",
    "          'gist_rainbow', 'rainbow', 'jet', 'nipy_spectral', 'gist_ncar']\n"
   ]
  },
  {
   "cell_type": "code",
   "execution_count": 7,
   "metadata": {},
   "outputs": [
    {
     "data": {
      "application/vnd.jupyter.widget-view+json": {
       "model_id": "53eafeaf4c4a4b30a5a6b90aa4bbd1d1",
       "version_major": 2,
       "version_minor": 0
      },
      "text/plain": [
       "interactive(children=(FloatSlider(value=0.7, description='prefer_horizontal', max=1.0, step=0.05), IntSlider(v…"
      ]
     },
     "metadata": {},
     "output_type": "display_data"
    }
   ],
   "source": [
    "interact(make_wordcloud, colormap=c_maps, background_color=(0 , 256, 1), prefer_horizontal=(0, 1, .05), font_step=(1, 10, 1));"
   ]
  },
  {
   "cell_type": "code",
   "execution_count": null,
   "metadata": {},
   "outputs": [],
   "source": []
  },
  {
   "cell_type": "code",
   "execution_count": null,
   "metadata": {},
   "outputs": [],
   "source": []
  }
 ],
 "metadata": {
  "kernelspec": {
   "display_name": "Python 3",
   "language": "python",
   "name": "python3"
  },
  "language_info": {
   "codemirror_mode": {
    "name": "ipython",
    "version": 3
   },
   "file_extension": ".py",
   "mimetype": "text/x-python",
   "name": "python",
   "nbconvert_exporter": "python",
   "pygments_lexer": "ipython3",
   "version": "3.7.8"
  }
 },
 "nbformat": 4,
 "nbformat_minor": 2
}
